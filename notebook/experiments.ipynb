{
 "cells": [
  {
   "cell_type": "code",
   "execution_count": 1,
   "id": "8f54f28a",
   "metadata": {},
   "outputs": [
    {
     "name": "stdout",
     "output_type": "stream",
     "text": [
      "ok\n"
     ]
    }
   ],
   "source": [
    "print(\"ok\")"
   ]
  },
  {
   "cell_type": "code",
   "execution_count": 2,
   "id": "03ef1f2f",
   "metadata": {},
   "outputs": [],
   "source": [
    "from langchain_groq import ChatGroq "
   ]
  },
  {
   "cell_type": "code",
   "execution_count": 3,
   "id": "391cd38e",
   "metadata": {},
   "outputs": [],
   "source": [
    "from dotenv import load_dotenv"
   ]
  },
  {
   "cell_type": "code",
   "execution_count": 4,
   "id": "5cd3cc6e",
   "metadata": {},
   "outputs": [
    {
     "data": {
      "text/plain": [
       "True"
      ]
     },
     "execution_count": 4,
     "metadata": {},
     "output_type": "execute_result"
    }
   ],
   "source": [
    "load_dotenv()"
   ]
  },
  {
   "cell_type": "code",
   "execution_count": 5,
   "id": "5f646449",
   "metadata": {},
   "outputs": [],
   "source": [
    "llm=ChatGroq(model=\"deepseek-r1-distill-llama-70b\")"
   ]
  },
  {
   "cell_type": "code",
   "execution_count": 6,
   "id": "c1af291a",
   "metadata": {},
   "outputs": [
    {
     "name": "stdout",
     "output_type": "stream",
     "text": [
      "<think>\n",
      "Okay, so I need to figure out the capital of France. Hmm, I'm not entirely sure, but I think it's Paris. Wait, is that right? I've heard Paris mentioned a lot in movies and books, so maybe that's why I'm associating it with France. Let me think about other countries and their capitals to see if that helps. Like, the capital of the USA is Washington D.C., and for the UK, it's London. So, Paris seems to fit as the capital for France because it's a major city and I've heard it's where the Eiffel Tower is, which is a big landmark. I don't remember learning about any other city in France being the capital. Maybe Lyon or Marseille, but those don't sound right. Yeah, I'm pretty confident now that Paris is the capital of France.\n",
      "</think>\n",
      "\n",
      "The capital of France is Paris. This conclusion is based on common knowledge and the association of Paris with significant landmarks like the Eiffel Tower, which are often linked with France in popular culture. Additionally, Paris is widely recognized as the political and cultural center of the country, supporting its status as the capital.\n"
     ]
    }
   ],
   "source": [
    "print(llm.invoke(\"What is the capital of France?\").content)"
   ]
  },
  {
   "cell_type": "code",
   "execution_count": 7,
   "id": "d95e9a7b",
   "metadata": {},
   "outputs": [],
   "source": [
    "from langchain_huggingface import HuggingFaceEmbeddings\n"
   ]
  },
  {
   "cell_type": "code",
   "execution_count": 8,
   "id": "3a2217f9",
   "metadata": {},
   "outputs": [
    {
     "name": "stderr",
     "output_type": "stream",
     "text": [
      "/Users/ankita/Documents/Krish Naik Academy/LLMOPS/document_portal/doc_env/lib/python3.10/site-packages/tqdm/auto.py:21: TqdmWarning: IProgress not found. Please update jupyter and ipywidgets. See https://ipywidgets.readthedocs.io/en/stable/user_install.html\n",
      "  from .autonotebook import tqdm as notebook_tqdm\n"
     ]
    }
   ],
   "source": [
    "embedding_model=HuggingFaceEmbeddings(model_name=\"BAAI/bge-small-en\")"
   ]
  },
  {
   "cell_type": "code",
   "execution_count": 9,
   "id": "00f8074a",
   "metadata": {},
   "outputs": [
    {
     "name": "stderr",
     "output_type": "stream",
     "text": [
      "/Users/ankita/Documents/Krish Naik Academy/LLMOPS/document_portal/doc_env/lib/python3.10/site-packages/torch/nn/modules/module.py:1762: FutureWarning: `encoder_attention_mask` is deprecated and will be removed in version 4.55.0 for `BertSdpaSelfAttention.forward`.\n",
      "  return forward_call(*args, **kwargs)\n"
     ]
    }
   ],
   "source": [
    "doc_vector=embedding_model.embed_query(\"What is the capital of France?\")"
   ]
  },
  {
   "cell_type": "markdown",
   "id": "9e0ff735",
   "metadata": {},
   "source": [
    "# 1. Data Ingestion"
   ]
  },
  {
   "cell_type": "code",
   "execution_count": 10,
   "id": "50d79adb",
   "metadata": {},
   "outputs": [],
   "source": [
    "from langchain.document_loaders import PyPDFLoader"
   ]
  },
  {
   "cell_type": "code",
   "execution_count": 11,
   "id": "98929d96",
   "metadata": {},
   "outputs": [],
   "source": [
    "from langchain.text_splitter import RecursiveCharacterTextSplitter"
   ]
  },
  {
   "cell_type": "code",
   "execution_count": 12,
   "id": "06185d90",
   "metadata": {},
   "outputs": [],
   "source": [
    "import os"
   ]
  },
  {
   "cell_type": "code",
   "execution_count": 13,
   "id": "171e06b4",
   "metadata": {},
   "outputs": [
    {
     "data": {
      "text/plain": [
       "'/Users/ankita/Documents/Krish Naik Academy/LLMOPS/document_portal/notebook'"
      ]
     },
     "execution_count": 13,
     "metadata": {},
     "output_type": "execute_result"
    }
   ],
   "source": [
    "os.getcwd()"
   ]
  },
  {
   "cell_type": "code",
   "execution_count": 14,
   "id": "58c22372",
   "metadata": {},
   "outputs": [],
   "source": [
    "file_path = os.path.join(os.getcwd(), \"data\", \"sample.pdf\")"
   ]
  },
  {
   "cell_type": "code",
   "execution_count": 15,
   "id": "a7e7444b",
   "metadata": {},
   "outputs": [],
   "source": [
    "loader=PyPDFLoader(file_path)"
   ]
  },
  {
   "cell_type": "code",
   "execution_count": 16,
   "id": "a7cb4469",
   "metadata": {},
   "outputs": [],
   "source": [
    "documents=loader.load()"
   ]
  },
  {
   "cell_type": "code",
   "execution_count": 17,
   "id": "6a28475d",
   "metadata": {},
   "outputs": [
    {
     "data": {
      "text/plain": [
       "77"
      ]
     },
     "execution_count": 17,
     "metadata": {},
     "output_type": "execute_result"
    }
   ],
   "source": [
    "len(documents)"
   ]
  },
  {
   "cell_type": "code",
   "execution_count": 18,
   "id": "924bd48e",
   "metadata": {},
   "outputs": [],
   "source": [
    "#documents # Each document represent one sing page"
   ]
  },
  {
   "cell_type": "code",
   "execution_count": 19,
   "id": "84eff300",
   "metadata": {},
   "outputs": [],
   "source": [
    "# This is experimental code to split the text into chunks- no deterministic way\n",
    "text_splitter = RecursiveCharacterTextSplitter(chunk_size=1000, chunk_overlap=200, length_function=len)"
   ]
  },
  {
   "cell_type": "code",
   "execution_count": 20,
   "id": "66d05741",
   "metadata": {},
   "outputs": [],
   "source": [
    "docs = text_splitter.split_documents(documents)"
   ]
  },
  {
   "cell_type": "code",
   "execution_count": 21,
   "id": "70e26920",
   "metadata": {},
   "outputs": [
    {
     "data": {
      "text/plain": [
       "342"
      ]
     },
     "execution_count": 21,
     "metadata": {},
     "output_type": "execute_result"
    }
   ],
   "source": [
    "len(docs)"
   ]
  },
  {
   "cell_type": "code",
   "execution_count": 22,
   "id": "16890a35",
   "metadata": {},
   "outputs": [],
   "source": [
    "#docs"
   ]
  },
  {
   "cell_type": "code",
   "execution_count": 23,
   "id": "1356b1c2",
   "metadata": {},
   "outputs": [
    {
     "data": {
      "text/plain": [
       "Document(metadata={'producer': 'pdfTeX-1.40.25', 'creator': 'LaTeX with hyperref', 'creationdate': '2023-07-20T00:30:36+00:00', 'author': '', 'keywords': '', 'moddate': '2023-07-20T00:30:36+00:00', 'ptex.fullbanner': 'This is pdfTeX, Version 3.141592653-2.6-1.40.25 (TeX Live 2023) kpathsea version 6.3.5', 'subject': '', 'title': '', 'trapped': '/False', 'source': '/Users/ankita/Documents/Krish Naik Academy/LLMOPS/document_portal/notebook/data/sample.pdf', 'total_pages': 77, 'page': 0, 'page_label': '1'}, page_content='Llama 2: Open Foundation and Fine-Tuned Chat Models\\nHugo Touvron∗ Louis Martin† Kevin Stone†\\nPeter Albert Amjad Almahairi Yasmine Babaei Nikolay Bashlykov Soumya Batra\\nPrajjwal Bhargava Shruti Bhosale Dan Bikel Lukas Blecher Cristian Canton Ferrer Moya Chen\\nGuillem Cucurull David Esiobu Jude Fernandes Jeremy Fu Wenyin Fu Brian Fuller\\nCynthia Gao Vedanuj Goswami Naman Goyal Anthony Hartshorn Saghar Hosseini Rui Hou\\nHakan Inan Marcin Kardas Viktor Kerkez Madian Khabsa Isabel Kloumann Artem Korenev\\nPunit Singh Koura Marie-Anne Lachaux Thibaut Lavril Jenya Lee Diana Liskovich\\nYinghai Lu Yuning Mao Xavier Martinet Todor Mihaylov Pushkar Mishra\\nIgor Molybog Yixin Nie Andrew Poulton Jeremy Reizenstein Rashi Rungta Kalyan Saladi\\nAlan Schelten Ruan Silva Eric Michael Smith Ranjan Subramanian Xiaoqing Ellen Tan Binh Tang\\nRoss Taylor Adina Williams Jian Xiang Kuan Puxin Xu Zheng Yan Iliyan Zarov Yuchen Zhang\\nAngela Fan Melanie Kambadur Sharan Narang Aurelien Rodriguez Robert Stojnic')"
      ]
     },
     "execution_count": 23,
     "metadata": {},
     "output_type": "execute_result"
    }
   ],
   "source": [
    "docs[0]"
   ]
  },
  {
   "cell_type": "code",
   "execution_count": 24,
   "id": "9d1de44b",
   "metadata": {},
   "outputs": [
    {
     "data": {
      "text/plain": [
       "{'producer': 'pdfTeX-1.40.25',\n",
       " 'creator': 'LaTeX with hyperref',\n",
       " 'creationdate': '2023-07-20T00:30:36+00:00',\n",
       " 'author': '',\n",
       " 'keywords': '',\n",
       " 'moddate': '2023-07-20T00:30:36+00:00',\n",
       " 'ptex.fullbanner': 'This is pdfTeX, Version 3.141592653-2.6-1.40.25 (TeX Live 2023) kpathsea version 6.3.5',\n",
       " 'subject': '',\n",
       " 'title': '',\n",
       " 'trapped': '/False',\n",
       " 'source': '/Users/ankita/Documents/Krish Naik Academy/LLMOPS/document_portal/notebook/data/sample.pdf',\n",
       " 'total_pages': 77,\n",
       " 'page': 0,\n",
       " 'page_label': '1'}"
      ]
     },
     "execution_count": 24,
     "metadata": {},
     "output_type": "execute_result"
    }
   ],
   "source": [
    "docs[0].metadata"
   ]
  },
  {
   "cell_type": "code",
   "execution_count": 25,
   "id": "1cbd8af6",
   "metadata": {},
   "outputs": [
    {
     "data": {
      "text/plain": [
       "{'producer': 'pdfTeX-1.40.25',\n",
       " 'creator': 'LaTeX with hyperref',\n",
       " 'creationdate': '2023-07-20T00:30:36+00:00',\n",
       " 'author': '',\n",
       " 'keywords': '',\n",
       " 'moddate': '2023-07-20T00:30:36+00:00',\n",
       " 'ptex.fullbanner': 'This is pdfTeX, Version 3.141592653-2.6-1.40.25 (TeX Live 2023) kpathsea version 6.3.5',\n",
       " 'subject': '',\n",
       " 'title': '',\n",
       " 'trapped': '/False',\n",
       " 'source': '/Users/ankita/Documents/Krish Naik Academy/LLMOPS/document_portal/notebook/data/sample.pdf',\n",
       " 'total_pages': 77,\n",
       " 'page': 22,\n",
       " 'page_label': '23'}"
      ]
     },
     "execution_count": 25,
     "metadata": {},
     "output_type": "execute_result"
    }
   ],
   "source": [
    "# Almost everything is same only the page, page_label is different\n",
    "docs[100].metadata"
   ]
  },
  {
   "cell_type": "code",
   "execution_count": 26,
   "id": "75fbf3c8",
   "metadata": {},
   "outputs": [
    {
     "data": {
      "text/plain": [
       "'Llama 2: Open Foundation and Fine-Tuned Chat Models\\nHugo Touvron∗ Louis Martin† Kevin Stone†\\nPeter Albert Amjad Almahairi Yasmine Babaei Nikolay Bashlykov Soumya Batra\\nPrajjwal Bhargava Shruti Bhosale Dan Bikel Lukas Blecher Cristian Canton Ferrer Moya Chen\\nGuillem Cucurull David Esiobu Jude Fernandes Jeremy Fu Wenyin Fu Brian Fuller\\nCynthia Gao Vedanuj Goswami Naman Goyal Anthony Hartshorn Saghar Hosseini Rui Hou\\nHakan Inan Marcin Kardas Viktor Kerkez Madian Khabsa Isabel Kloumann Artem Korenev\\nPunit Singh Koura Marie-Anne Lachaux Thibaut Lavril Jenya Lee Diana Liskovich\\nYinghai Lu Yuning Mao Xavier Martinet Todor Mihaylov Pushkar Mishra\\nIgor Molybog Yixin Nie Andrew Poulton Jeremy Reizenstein Rashi Rungta Kalyan Saladi\\nAlan Schelten Ruan Silva Eric Michael Smith Ranjan Subramanian Xiaoqing Ellen Tan Binh Tang\\nRoss Taylor Adina Williams Jian Xiang Kuan Puxin Xu Zheng Yan Iliyan Zarov Yuchen Zhang\\nAngela Fan Melanie Kambadur Sharan Narang Aurelien Rodriguez Robert Stojnic'"
      ]
     },
     "execution_count": 26,
     "metadata": {},
     "output_type": "execute_result"
    }
   ],
   "source": [
    "docs[0].page_content # Actual Data"
   ]
  },
  {
   "cell_type": "markdown",
   "id": "e8d381a5",
   "metadata": {},
   "source": [
    "# 2. Retrieval"
   ]
  },
  {
   "cell_type": "code",
   "execution_count": 27,
   "id": "fc92c3c6",
   "metadata": {},
   "outputs": [],
   "source": [
    "from langchain.vectorstores import FAISS\n"
   ]
  },
  {
   "cell_type": "code",
   "execution_count": 28,
   "id": "34ba0280",
   "metadata": {},
   "outputs": [
    {
     "data": {
      "text/plain": [
       "'Llama 2: Open Foundation and Fine-Tuned Chat Models\\nHugo Touvron∗ Louis Martin† Kevin Stone†\\nPeter Albert Amjad Almahairi Yasmine Babaei Nikolay Bashlykov Soumya Batra\\nPrajjwal Bhargava Shruti Bhosale Dan Bikel Lukas Blecher Cristian Canton Ferrer Moya Chen\\nGuillem Cucurull David Esiobu Jude Fernandes Jeremy Fu Wenyin Fu Brian Fuller\\nCynthia Gao Vedanuj Goswami Naman Goyal Anthony Hartshorn Saghar Hosseini Rui Hou\\nHakan Inan Marcin Kardas Viktor Kerkez Madian Khabsa Isabel Kloumann Artem Korenev\\nPunit Singh Koura Marie-Anne Lachaux Thibaut Lavril Jenya Lee Diana Liskovich\\nYinghai Lu Yuning Mao Xavier Martinet Todor Mihaylov Pushkar Mishra\\nIgor Molybog Yixin Nie Andrew Poulton Jeremy Reizenstein Rashi Rungta Kalyan Saladi\\nAlan Schelten Ruan Silva Eric Michael Smith Ranjan Subramanian Xiaoqing Ellen Tan Binh Tang\\nRoss Taylor Adina Williams Jian Xiang Kuan Puxin Xu Zheng Yan Iliyan Zarov Yuchen Zhang\\nAngela Fan Melanie Kambadur Sharan Narang Aurelien Rodriguez Robert Stojnic'"
      ]
     },
     "execution_count": 28,
     "metadata": {},
     "output_type": "execute_result"
    }
   ],
   "source": [
    "docs[0].page_content"
   ]
  },
  {
   "cell_type": "code",
   "execution_count": 29,
   "id": "20ada2aa",
   "metadata": {},
   "outputs": [],
   "source": [
    "vec = embedding_model.embed_documents(docs[0].page_content)"
   ]
  },
  {
   "cell_type": "code",
   "execution_count": 30,
   "id": "c486a8f6",
   "metadata": {},
   "outputs": [
    {
     "data": {
      "text/plain": [
       "986"
      ]
     },
     "execution_count": 30,
     "metadata": {},
     "output_type": "execute_result"
    }
   ],
   "source": [
    "# Length of vector or dimension of the model\n",
    "len(embedding_model.embed_documents(docs[0].page_content))"
   ]
  },
  {
   "cell_type": "code",
   "execution_count": 31,
   "id": "9fa5a902",
   "metadata": {},
   "outputs": [],
   "source": [
    "vectorstore = FAISS.from_documents(docs, embedding_model)"
   ]
  },
  {
   "cell_type": "markdown",
   "id": "ddb6ff29",
   "metadata": {},
   "source": [
    "1. In Memory (FAISS, Chroma)\n",
    "2. On Disk (FAISS, Chroma)\n",
    "3. Cloud bases(Pinecone, Milvus, Pinecone, AstraDb)\n",
    "\n",
    "### Retrieval : From the vectordatabase we are going to retieve or fetch or rank the most appropriate k result"
   ]
  },
  {
   "cell_type": "code",
   "execution_count": 32,
   "id": "af8ac3a2",
   "metadata": {},
   "outputs": [
    {
     "data": {
      "text/plain": [
       "[Document(id='a378d858-e318-4b1a-9040-8bbf14cdc80d', metadata={'producer': 'pdfTeX-1.40.25', 'creator': 'LaTeX with hyperref', 'creationdate': '2023-07-20T00:30:36+00:00', 'author': '', 'keywords': '', 'moddate': '2023-07-20T00:30:36+00:00', 'ptex.fullbanner': 'This is pdfTeX, Version 3.141592653-2.6-1.40.25 (TeX Live 2023) kpathsea version 6.3.5', 'subject': '', 'title': '', 'trapped': '/False', 'source': '/Users/ankita/Documents/Krish Naik Academy/LLMOPS/document_portal/notebook/data/sample.pdf', 'total_pages': 77, 'page': 73, 'page_label': '74'}, page_content='Llama 1\\n7B 0.27 0.26 0.34 0.54 0.36 0.39 0.26 0.28 0.33 0.45 0.33 0.17 0.24 0.31 0.44 0.57 0.39 0.3513B 0.24 0.24 0.31 0.52 0.37 0.37 0.23 0.28 0.31 0.50 0.27 0.10 0.24 0.27 0.41 0.55 0.34 0.2533B 0.23 0.26 0.34 0.50 0.36 0.35 0.24 0.33 0.34 0.49 0.31 0.12 0.23 0.30 0.41 0.60 0.28 0.2765B 0.25 0.26 0.34 0.46 0.36 0.40 0.25 0.32 0.32 0.48 0.31 0.11 0.25 0.30 0.43 0.60 0.39 0.34\\nLlama 2\\n7B 0.28 0.25 0.29 0.50 0.36 0.37 0.21 0.34 0.32 0.50 0.28 0.19 0.26 0.32 0.44 0.51 0.30 0.2513B 0.24 0.25 0.35 0.50 0.41 0.36 0.24 0.39 0.35 0.48 0.31 0.18 0.27 0.34 0.46 0.66 0.35 0.2834B 0.27 0.24 0.33 0.56 0.41 0.36 0.26 0.32 0.36 0.53 0.33 0.07 0.26 0.30 0.45 0.56 0.26 0.3570B 0.31 0.29 0.35 0.51 0.41 0.45 0.27 0.34 0.40 0.52 0.36 0.12 0.28 0.31 0.45 0.65 0.33 0.20\\nFine-tuned'),\n",
       " Document(id='475f87d6-6b77-4e85-bdb4-16d546451e08', metadata={'producer': 'pdfTeX-1.40.25', 'creator': 'LaTeX with hyperref', 'creationdate': '2023-07-20T00:30:36+00:00', 'author': '', 'keywords': '', 'moddate': '2023-07-20T00:30:36+00:00', 'ptex.fullbanner': 'This is pdfTeX, Version 3.141592653-2.6-1.40.25 (TeX Live 2023) kpathsea version 6.3.5', 'subject': '', 'title': '', 'trapped': '/False', 'source': '/Users/ankita/Documents/Krish Naik Academy/LLMOPS/document_portal/notebook/data/sample.pdf', 'total_pages': 77, 'page': 48, 'page_label': '49'}, page_content='Llama 1\\n7B 76.5 79.8 48.9 76.1 70.1 72.8 47.6 57.2 33.6 35.1\\n13B 78.1 80.1 50.4 79.2 73.0 74.8 52.7 56.4 62.0 46.9\\n33B 83.1 82.3 50.4 82.8 76.0 80.0 57.8 58.6 72.5 57.8\\n65B 85.3 82.8 52.3 84.2 77.0 78.9 56.0 60.2 74.0 63.4\\nLlama 2\\n7B 77.4 78.8 48.3 77.2 69.2 75.2 45.9 58.6 57.8 45.3\\n13B 81.7 80.5 50.3 80.7 72.8 77.3 49.4 57.0 67.3 54.8\\n34B 83.7 81.9 50.9 83.3 76.7 79.4 54.5 58.2 74.3 62.6\\n70B 85.0 82.8 50.7 85.3 80.2 80.2 57.4 60.2 78.5 68.9\\nTable 20: Performance on standard benchmarks.\\nHuman-Eval MBPP\\npass@1 pass@100 pass@1 pass@80\\nMPT 7B 18.3 - 22.6 -\\n30B 25.0 - 32.8 -\\nFalcon 7B 0.0 - 11.2 -\\n40B 0.6 - 29.8 -\\nLlama 1\\n7B 10.5 36.5 17.7 56.2\\n13B 15.8 52.5 22.0 64.0\\n33B 21.7 70.7 30.2 73.4\\n65B 23.7 79.3 37.7 76.8\\nLlama 2\\n7B 12.8 45.6 20.8 62.8\\n13B 18.3 60.2 30.6 69.0\\n34B 22.6 77.2 33.0 76.1\\n70B 29.9 89.0 45.0 81.4\\nTable 21: Code generation results on Human-Eval and MBPP. We report 0-shot and 3-shot results for'),\n",
       " Document(id='a6c328eb-ef59-46e2-ad09-c210d0ef9ac7', metadata={'producer': 'pdfTeX-1.40.25', 'creator': 'LaTeX with hyperref', 'creationdate': '2023-07-20T00:30:36+00:00', 'author': '', 'keywords': '', 'moddate': '2023-07-20T00:30:36+00:00', 'ptex.fullbanner': 'This is pdfTeX, Version 3.141592653-2.6-1.40.25 (TeX Live 2023) kpathsea version 6.3.5', 'subject': '', 'title': '', 'trapped': '/False', 'source': '/Users/ankita/Documents/Krish Naik Academy/LLMOPS/document_portal/notebook/data/sample.pdf', 'total_pages': 77, 'page': 2, 'page_label': '3'}, page_content='Feedback (RLHF). Although the training methodology is simple, high computational requirements have\\nlimited the development of LLMs to a few players. There have been public releases of pretrained LLMs\\n(such as BLOOM (Scao et al., 2022), LLaMa-1 (Touvron et al., 2023), and Falcon (Penedo et al., 2023)) that\\nmatch the performance of closed pretrained competitors like GPT-3 (Brown et al., 2020) and Chinchilla\\n(Hoffmann et al., 2022), but none of these models are suitable substitutes for closed “product” LLMs, such\\nas ChatGPT, BARD, and Claude. These closed product LLMs are heavily fine-tuned to align with human\\npreferences, which greatly enhances their usability and safety. This step can require significant costs in\\ncompute and human annotation, and is often not transparent or easily reproducible, limiting progress within\\nthe community to advance AI alignment research.\\nIn this work, we develop and release Llama 2, a family of pretrained and fine-tuned LLMs,Llama 2and'),\n",
       " Document(id='c7fe4d81-718c-44df-b897-6ac0e612b5a3', metadata={'producer': 'pdfTeX-1.40.25', 'creator': 'LaTeX with hyperref', 'creationdate': '2023-07-20T00:30:36+00:00', 'author': '', 'keywords': '', 'moddate': '2023-07-20T00:30:36+00:00', 'ptex.fullbanner': 'This is pdfTeX, Version 3.141592653-2.6-1.40.25 (TeX Live 2023) kpathsea version 6.3.5', 'subject': '', 'title': '', 'trapped': '/False', 'source': '/Users/ankita/Documents/Krish Naik Academy/LLMOPS/document_portal/notebook/data/sample.pdf', 'total_pages': 77, 'page': 34, 'page_label': '35'}, page_content='deployment as described in ourResponsible Use Guide.§§\\n5.3 Responsible Release Strategy\\nRelease Details. We makeLlama 2available for both research and commercial use athttps://ai.meta.\\ncom/resources/models-and-libraries/llama/. Those who useLlama 2must comply with the terms of\\nthe provided license and ourAcceptable Use Policy, which prohibit any uses that would violate applicable\\npolicies, laws, rules, and regulations.\\nWe also provide code examples to help developers replicate our safe generations withLlama 2-Chatand\\napply basic safety techniques at the user input and model output layers. These code samples are available\\nhere: https://github.com/facebookresearch/llama. Finally,wearesharinga ResponsibleUseGuide ,which\\nprovides guidelines regarding safe development and deployment.\\nResponsible Release. While many companies have opted to build AI behind closed doors, we are releasing\\nLlama 2openly to encourage responsible AI innovation. Based on our experience, an open approach draws')]"
      ]
     },
     "execution_count": 32,
     "metadata": {},
     "output_type": "execute_result"
    }
   ],
   "source": [
    "#Bydefault it will send 4 documents\n",
    "relevant_doc=vectorstore.similarity_search(\"What is a llama2 llm nodel?\")\n",
    "relevant_doc"
   ]
  },
  {
   "cell_type": "code",
   "execution_count": 33,
   "id": "b05b7319",
   "metadata": {},
   "outputs": [
    {
     "data": {
      "text/plain": [
       "Document(id='a378d858-e318-4b1a-9040-8bbf14cdc80d', metadata={'producer': 'pdfTeX-1.40.25', 'creator': 'LaTeX with hyperref', 'creationdate': '2023-07-20T00:30:36+00:00', 'author': '', 'keywords': '', 'moddate': '2023-07-20T00:30:36+00:00', 'ptex.fullbanner': 'This is pdfTeX, Version 3.141592653-2.6-1.40.25 (TeX Live 2023) kpathsea version 6.3.5', 'subject': '', 'title': '', 'trapped': '/False', 'source': '/Users/ankita/Documents/Krish Naik Academy/LLMOPS/document_portal/notebook/data/sample.pdf', 'total_pages': 77, 'page': 73, 'page_label': '74'}, page_content='Llama 1\\n7B 0.27 0.26 0.34 0.54 0.36 0.39 0.26 0.28 0.33 0.45 0.33 0.17 0.24 0.31 0.44 0.57 0.39 0.3513B 0.24 0.24 0.31 0.52 0.37 0.37 0.23 0.28 0.31 0.50 0.27 0.10 0.24 0.27 0.41 0.55 0.34 0.2533B 0.23 0.26 0.34 0.50 0.36 0.35 0.24 0.33 0.34 0.49 0.31 0.12 0.23 0.30 0.41 0.60 0.28 0.2765B 0.25 0.26 0.34 0.46 0.36 0.40 0.25 0.32 0.32 0.48 0.31 0.11 0.25 0.30 0.43 0.60 0.39 0.34\\nLlama 2\\n7B 0.28 0.25 0.29 0.50 0.36 0.37 0.21 0.34 0.32 0.50 0.28 0.19 0.26 0.32 0.44 0.51 0.30 0.2513B 0.24 0.25 0.35 0.50 0.41 0.36 0.24 0.39 0.35 0.48 0.31 0.18 0.27 0.34 0.46 0.66 0.35 0.2834B 0.27 0.24 0.33 0.56 0.41 0.36 0.26 0.32 0.36 0.53 0.33 0.07 0.26 0.30 0.45 0.56 0.26 0.3570B 0.31 0.29 0.35 0.51 0.41 0.45 0.27 0.34 0.40 0.52 0.36 0.12 0.28 0.31 0.45 0.65 0.33 0.20\\nFine-tuned')"
      ]
     },
     "execution_count": 33,
     "metadata": {},
     "output_type": "execute_result"
    }
   ],
   "source": [
    "relevant_doc[0]"
   ]
  },
  {
   "cell_type": "code",
   "execution_count": 34,
   "id": "33182c97",
   "metadata": {},
   "outputs": [
    {
     "data": {
      "text/plain": [
       "'Llama 1\\n7B 76.5 79.8 48.9 76.1 70.1 72.8 47.6 57.2 33.6 35.1\\n13B 78.1 80.1 50.4 79.2 73.0 74.8 52.7 56.4 62.0 46.9\\n33B 83.1 82.3 50.4 82.8 76.0 80.0 57.8 58.6 72.5 57.8\\n65B 85.3 82.8 52.3 84.2 77.0 78.9 56.0 60.2 74.0 63.4\\nLlama 2\\n7B 77.4 78.8 48.3 77.2 69.2 75.2 45.9 58.6 57.8 45.3\\n13B 81.7 80.5 50.3 80.7 72.8 77.3 49.4 57.0 67.3 54.8\\n34B 83.7 81.9 50.9 83.3 76.7 79.4 54.5 58.2 74.3 62.6\\n70B 85.0 82.8 50.7 85.3 80.2 80.2 57.4 60.2 78.5 68.9\\nTable 20: Performance on standard benchmarks.\\nHuman-Eval MBPP\\npass@1 pass@100 pass@1 pass@80\\nMPT 7B 18.3 - 22.6 -\\n30B 25.0 - 32.8 -\\nFalcon 7B 0.0 - 11.2 -\\n40B 0.6 - 29.8 -\\nLlama 1\\n7B 10.5 36.5 17.7 56.2\\n13B 15.8 52.5 22.0 64.0\\n33B 21.7 70.7 30.2 73.4\\n65B 23.7 79.3 37.7 76.8\\nLlama 2\\n7B 12.8 45.6 20.8 62.8\\n13B 18.3 60.2 30.6 69.0\\n34B 22.6 77.2 33.0 76.1\\n70B 29.9 89.0 45.0 81.4\\nTable 21: Code generation results on Human-Eval and MBPP. We report 0-shot and 3-shot results for'"
      ]
     },
     "execution_count": 34,
     "metadata": {},
     "output_type": "execute_result"
    }
   ],
   "source": [
    "relevant_doc[1].page_content"
   ]
  },
  {
   "cell_type": "code",
   "execution_count": 35,
   "id": "c2d045c4",
   "metadata": {},
   "outputs": [
    {
     "data": {
      "text/plain": [
       "[Document(id='a378d858-e318-4b1a-9040-8bbf14cdc80d', metadata={'producer': 'pdfTeX-1.40.25', 'creator': 'LaTeX with hyperref', 'creationdate': '2023-07-20T00:30:36+00:00', 'author': '', 'keywords': '', 'moddate': '2023-07-20T00:30:36+00:00', 'ptex.fullbanner': 'This is pdfTeX, Version 3.141592653-2.6-1.40.25 (TeX Live 2023) kpathsea version 6.3.5', 'subject': '', 'title': '', 'trapped': '/False', 'source': '/Users/ankita/Documents/Krish Naik Academy/LLMOPS/document_portal/notebook/data/sample.pdf', 'total_pages': 77, 'page': 73, 'page_label': '74'}, page_content='Llama 1\\n7B 0.27 0.26 0.34 0.54 0.36 0.39 0.26 0.28 0.33 0.45 0.33 0.17 0.24 0.31 0.44 0.57 0.39 0.3513B 0.24 0.24 0.31 0.52 0.37 0.37 0.23 0.28 0.31 0.50 0.27 0.10 0.24 0.27 0.41 0.55 0.34 0.2533B 0.23 0.26 0.34 0.50 0.36 0.35 0.24 0.33 0.34 0.49 0.31 0.12 0.23 0.30 0.41 0.60 0.28 0.2765B 0.25 0.26 0.34 0.46 0.36 0.40 0.25 0.32 0.32 0.48 0.31 0.11 0.25 0.30 0.43 0.60 0.39 0.34\\nLlama 2\\n7B 0.28 0.25 0.29 0.50 0.36 0.37 0.21 0.34 0.32 0.50 0.28 0.19 0.26 0.32 0.44 0.51 0.30 0.2513B 0.24 0.25 0.35 0.50 0.41 0.36 0.24 0.39 0.35 0.48 0.31 0.18 0.27 0.34 0.46 0.66 0.35 0.2834B 0.27 0.24 0.33 0.56 0.41 0.36 0.26 0.32 0.36 0.53 0.33 0.07 0.26 0.30 0.45 0.56 0.26 0.3570B 0.31 0.29 0.35 0.51 0.41 0.45 0.27 0.34 0.40 0.52 0.36 0.12 0.28 0.31 0.45 0.65 0.33 0.20\\nFine-tuned'),\n",
       " Document(id='475f87d6-6b77-4e85-bdb4-16d546451e08', metadata={'producer': 'pdfTeX-1.40.25', 'creator': 'LaTeX with hyperref', 'creationdate': '2023-07-20T00:30:36+00:00', 'author': '', 'keywords': '', 'moddate': '2023-07-20T00:30:36+00:00', 'ptex.fullbanner': 'This is pdfTeX, Version 3.141592653-2.6-1.40.25 (TeX Live 2023) kpathsea version 6.3.5', 'subject': '', 'title': '', 'trapped': '/False', 'source': '/Users/ankita/Documents/Krish Naik Academy/LLMOPS/document_portal/notebook/data/sample.pdf', 'total_pages': 77, 'page': 48, 'page_label': '49'}, page_content='Llama 1\\n7B 76.5 79.8 48.9 76.1 70.1 72.8 47.6 57.2 33.6 35.1\\n13B 78.1 80.1 50.4 79.2 73.0 74.8 52.7 56.4 62.0 46.9\\n33B 83.1 82.3 50.4 82.8 76.0 80.0 57.8 58.6 72.5 57.8\\n65B 85.3 82.8 52.3 84.2 77.0 78.9 56.0 60.2 74.0 63.4\\nLlama 2\\n7B 77.4 78.8 48.3 77.2 69.2 75.2 45.9 58.6 57.8 45.3\\n13B 81.7 80.5 50.3 80.7 72.8 77.3 49.4 57.0 67.3 54.8\\n34B 83.7 81.9 50.9 83.3 76.7 79.4 54.5 58.2 74.3 62.6\\n70B 85.0 82.8 50.7 85.3 80.2 80.2 57.4 60.2 78.5 68.9\\nTable 20: Performance on standard benchmarks.\\nHuman-Eval MBPP\\npass@1 pass@100 pass@1 pass@80\\nMPT 7B 18.3 - 22.6 -\\n30B 25.0 - 32.8 -\\nFalcon 7B 0.0 - 11.2 -\\n40B 0.6 - 29.8 -\\nLlama 1\\n7B 10.5 36.5 17.7 56.2\\n13B 15.8 52.5 22.0 64.0\\n33B 21.7 70.7 30.2 73.4\\n65B 23.7 79.3 37.7 76.8\\nLlama 2\\n7B 12.8 45.6 20.8 62.8\\n13B 18.3 60.2 30.6 69.0\\n34B 22.6 77.2 33.0 76.1\\n70B 29.9 89.0 45.0 81.4\\nTable 21: Code generation results on Human-Eval and MBPP. We report 0-shot and 3-shot results for'),\n",
       " Document(id='a6c328eb-ef59-46e2-ad09-c210d0ef9ac7', metadata={'producer': 'pdfTeX-1.40.25', 'creator': 'LaTeX with hyperref', 'creationdate': '2023-07-20T00:30:36+00:00', 'author': '', 'keywords': '', 'moddate': '2023-07-20T00:30:36+00:00', 'ptex.fullbanner': 'This is pdfTeX, Version 3.141592653-2.6-1.40.25 (TeX Live 2023) kpathsea version 6.3.5', 'subject': '', 'title': '', 'trapped': '/False', 'source': '/Users/ankita/Documents/Krish Naik Academy/LLMOPS/document_portal/notebook/data/sample.pdf', 'total_pages': 77, 'page': 2, 'page_label': '3'}, page_content='Feedback (RLHF). Although the training methodology is simple, high computational requirements have\\nlimited the development of LLMs to a few players. There have been public releases of pretrained LLMs\\n(such as BLOOM (Scao et al., 2022), LLaMa-1 (Touvron et al., 2023), and Falcon (Penedo et al., 2023)) that\\nmatch the performance of closed pretrained competitors like GPT-3 (Brown et al., 2020) and Chinchilla\\n(Hoffmann et al., 2022), but none of these models are suitable substitutes for closed “product” LLMs, such\\nas ChatGPT, BARD, and Claude. These closed product LLMs are heavily fine-tuned to align with human\\npreferences, which greatly enhances their usability and safety. This step can require significant costs in\\ncompute and human annotation, and is often not transparent or easily reproducible, limiting progress within\\nthe community to advance AI alignment research.\\nIn this work, we develop and release Llama 2, a family of pretrained and fine-tuned LLMs,Llama 2and'),\n",
       " Document(id='c7fe4d81-718c-44df-b897-6ac0e612b5a3', metadata={'producer': 'pdfTeX-1.40.25', 'creator': 'LaTeX with hyperref', 'creationdate': '2023-07-20T00:30:36+00:00', 'author': '', 'keywords': '', 'moddate': '2023-07-20T00:30:36+00:00', 'ptex.fullbanner': 'This is pdfTeX, Version 3.141592653-2.6-1.40.25 (TeX Live 2023) kpathsea version 6.3.5', 'subject': '', 'title': '', 'trapped': '/False', 'source': '/Users/ankita/Documents/Krish Naik Academy/LLMOPS/document_portal/notebook/data/sample.pdf', 'total_pages': 77, 'page': 34, 'page_label': '35'}, page_content='deployment as described in ourResponsible Use Guide.§§\\n5.3 Responsible Release Strategy\\nRelease Details. We makeLlama 2available for both research and commercial use athttps://ai.meta.\\ncom/resources/models-and-libraries/llama/. Those who useLlama 2must comply with the terms of\\nthe provided license and ourAcceptable Use Policy, which prohibit any uses that would violate applicable\\npolicies, laws, rules, and regulations.\\nWe also provide code examples to help developers replicate our safe generations withLlama 2-Chatand\\napply basic safety techniques at the user input and model output layers. These code samples are available\\nhere: https://github.com/facebookresearch/llama. Finally,wearesharinga ResponsibleUseGuide ,which\\nprovides guidelines regarding safe development and deployment.\\nResponsible Release. While many companies have opted to build AI behind closed doors, we are releasing\\nLlama 2openly to encourage responsible AI innovation. Based on our experience, an open approach draws'),\n",
       " Document(id='a9ce14e3-6715-4783-a2f9-af9e4f4669ac', metadata={'producer': 'pdfTeX-1.40.25', 'creator': 'LaTeX with hyperref', 'creationdate': '2023-07-20T00:30:36+00:00', 'author': '', 'keywords': '', 'moddate': '2023-07-20T00:30:36+00:00', 'ptex.fullbanner': 'This is pdfTeX, Version 3.141592653-2.6-1.40.25 (TeX Live 2023) kpathsea version 6.3.5', 'subject': '', 'title': '', 'trapped': '/False', 'source': '/Users/ankita/Documents/Krish Naik Academy/LLMOPS/document_portal/notebook/data/sample.pdf', 'total_pages': 77, 'page': 3, 'page_label': '4'}, page_content='Solaiman et al., 2023). Testing conducted to date has been in English and has not — and could not — cover\\nall scenarios. Therefore, before deploying any applications ofLlama 2-Chat, developers should perform\\nsafety testing and tuning tailored to their specific applications of the model. We provide a responsible use\\nguide¶ and code examples‖ to facilitate the safe deployment ofLlama 2and Llama 2-Chat. More details of\\nour responsible release strategy can be found in Section 5.3.\\nThe remainder of this paper describes our pretraining methodology (Section 2), fine-tuning methodology\\n(Section 3), approach to model safety (Section 4), key observations and insights (Section 5), relevant related\\nwork (Section 6), and conclusions (Section 7).\\n‡https://ai.meta.com/resources/models-and-libraries/llama/\\n§We are delaying the release of the 34B model due to a lack of time to sufficiently red team.\\n¶https://ai.meta.com/llama\\n‖https://github.com/facebookresearch/llama\\n4'),\n",
       " Document(id='8aed2a04-9f6a-4151-af2f-0b8b4318b53d', metadata={'producer': 'pdfTeX-1.40.25', 'creator': 'LaTeX with hyperref', 'creationdate': '2023-07-20T00:30:36+00:00', 'author': '', 'keywords': '', 'moddate': '2023-07-20T00:30:36+00:00', 'ptex.fullbanner': 'This is pdfTeX, Version 3.141592653-2.6-1.40.25 (TeX Live 2023) kpathsea version 6.3.5', 'subject': '', 'title': '', 'trapped': '/False', 'source': '/Users/ankita/Documents/Krish Naik Academy/LLMOPS/document_portal/notebook/data/sample.pdf', 'total_pages': 77, 'page': 3, 'page_label': '4'}, page_content='1. Llama 2, an updated version ofLlama 1, trained on a new mix of publicly available data. We also\\nincreased the size of the pretraining corpus by 40%, doubled the context length of the model, and\\nadopted grouped-query attention (Ainslie et al., 2023). We are releasing variants ofLlama 2with\\n7B, 13B, and 70B parameters. We have also trained 34B variants, which we report on in this paper\\nbut are not releasing.§\\n2. Llama 2-Chat, a fine-tuned version ofLlama 2that is optimized for dialogue use cases. We release\\nvariants of this model with 7B, 13B, and 70B parameters as well.\\nWe believe that the open release of LLMs, when done safely, will be a net benefit to society. Like all LLMs,\\nLlama 2is a new technology that carries potential risks with use (Bender et al., 2021b; Weidinger et al., 2021;\\nSolaiman et al., 2023). Testing conducted to date has been in English and has not — and could not — cover'),\n",
       " Document(id='b922f0e6-34f9-408b-8b7d-5c473d7f51dd', metadata={'producer': 'pdfTeX-1.40.25', 'creator': 'LaTeX with hyperref', 'creationdate': '2023-07-20T00:30:36+00:00', 'author': '', 'keywords': '', 'moddate': '2023-07-20T00:30:36+00:00', 'ptex.fullbanner': 'This is pdfTeX, Version 3.141592653-2.6-1.40.25 (TeX Live 2023) kpathsea version 6.3.5', 'subject': '', 'title': '', 'trapped': '/False', 'source': '/Users/ankita/Documents/Krish Naik Academy/LLMOPS/document_portal/notebook/data/sample.pdf', 'total_pages': 77, 'page': 2, 'page_label': '3'}, page_content='the community to advance AI alignment research.\\nIn this work, we develop and release Llama 2, a family of pretrained and fine-tuned LLMs,Llama 2and\\nLlama 2-Chat, at scales up to 70B parameters. On the series of helpfulness and safety benchmarks we tested,\\nLlama 2-Chatmodels generally perform better than existing open-source models. They also appear to\\nbe on par with some of the closed-source models, at least on the human evaluations we performed (see\\nFigures 1 and 3). We have taken measures to increase the safety of these models, using safety-specific data\\nannotation and tuning, as well as conducting red-teaming and employing iterative evaluations. Additionally,\\nthis paper contributes a thorough description of our fine-tuning methodology and approach to improving\\nLLM safety. We hope that this openness will enable the community to reproduce fine-tuned LLMs and\\ncontinue to improve the safety of those models, paving the way for more responsible development of LLMs.'),\n",
       " Document(id='93a618e0-bfec-4237-8ebc-9083335cc17e', metadata={'producer': 'pdfTeX-1.40.25', 'creator': 'LaTeX with hyperref', 'creationdate': '2023-07-20T00:30:36+00:00', 'author': '', 'keywords': '', 'moddate': '2023-07-20T00:30:36+00:00', 'ptex.fullbanner': 'This is pdfTeX, Version 3.141592653-2.6-1.40.25 (TeX Live 2023) kpathsea version 6.3.5', 'subject': '', 'title': '', 'trapped': '/False', 'source': '/Users/ankita/Documents/Krish Naik Academy/LLMOPS/document_portal/notebook/data/sample.pdf', 'total_pages': 77, 'page': 76, 'page_label': '77'}, page_content='specific applications of the model. Please see the Responsible Use Guide available available at\\nhttps://ai.meta.com/llama/responsible-user-guide\\nTable 52: Model card forLlama 2.\\n77'),\n",
       " Document(id='9eaf673b-8be6-44bf-a3a9-80f5394a99aa', metadata={'producer': 'pdfTeX-1.40.25', 'creator': 'LaTeX with hyperref', 'creationdate': '2023-07-20T00:30:36+00:00', 'author': '', 'keywords': '', 'moddate': '2023-07-20T00:30:36+00:00', 'ptex.fullbanner': 'This is pdfTeX, Version 3.141592653-2.6-1.40.25 (TeX Live 2023) kpathsea version 6.3.5', 'subject': '', 'title': '', 'trapped': '/False', 'source': '/Users/ankita/Documents/Krish Naik Academy/LLMOPS/document_portal/notebook/data/sample.pdf', 'total_pages': 77, 'page': 76, 'page_label': '77'}, page_content='nor the fine-tuning datasets include Meta user data.\\nData Freshness The pretraining data has a cutoff of September 2022, but some tuning data is\\nmore recent, up to July 2023.\\nEvaluation Results\\nSee evaluations for pretraining (Section 2); fine-tuning (Section 3); and safety (Section 4).\\nEthical Considerations and Limitations(Section 5.2)\\nLlama 2is a new technology that carries risks with use. Testing conducted to date has been in\\nEnglish, and has not covered, nor could it cover all scenarios. For these reasons, as with all LLMs,\\nLlama 2’s potential outputs cannot be predicted in advance, and the model may in some instances\\nproduce inaccurate or objectionable responses to user prompts. Therefore, before deploying any\\napplications ofLlama 2, developers should perform safety testing and tuning tailored to their\\nspecific applications of the model. Please see the Responsible Use Guide available available at\\nhttps://ai.meta.com/llama/responsible-user-guide\\nTable 52: Model card forLlama 2.'),\n",
       " Document(id='d38ea696-83a4-48ed-bd5a-c29db91cb4dc', metadata={'producer': 'pdfTeX-1.40.25', 'creator': 'LaTeX with hyperref', 'creationdate': '2023-07-20T00:30:36+00:00', 'author': '', 'keywords': '', 'moddate': '2023-07-20T00:30:36+00:00', 'ptex.fullbanner': 'This is pdfTeX, Version 3.141592653-2.6-1.40.25 (TeX Live 2023) kpathsea version 6.3.5', 'subject': '', 'title': '', 'trapped': '/False', 'source': '/Users/ankita/Documents/Krish Naik Academy/LLMOPS/document_portal/notebook/data/sample.pdf', 'total_pages': 77, 'page': 76, 'page_label': '77'}, page_content='License A custom commercial license is available at:ai.meta.com/resources/\\nmodels-and-libraries/llama-downloads/\\nWhere to send com-\\nments\\nInstructions on how to provide feedback or comments on the model can be\\nfound in the model README, or by opening an issue in the GitHub repository\\n(https://github.com/facebookresearch/llama/).\\nIntended Use\\nIntended Use CasesLlama 2is intended for commercial and research use in English. Tuned models\\nare intended for assistant-like chat, whereas pretrained models can be adapted\\nfor a variety of natural language generation tasks.\\nOut-of-Scope UsesUse in any manner that violates applicable laws or regulations (including trade\\ncompliance laws). Use in languages other than English. Use in any other way\\nthat is prohibited by the Acceptable Use Policy and Licensing Agreement for\\nLlama 2.\\nHardware and Software(Section 2.2)\\nTraining Factors We used custom training libraries, Meta’s Research Super Cluster, and produc-')]"
      ]
     },
     "execution_count": 35,
     "metadata": {},
     "output_type": "execute_result"
    }
   ],
   "source": [
    "relevant_doc=vectorstore.similarity_search(\"What is a llama2 llm nodel?\", k=10)\n",
    "relevant_doc"
   ]
  },
  {
   "cell_type": "markdown",
   "id": "9de100ab",
   "metadata": {},
   "source": [
    "# 3. Data Generation"
   ]
  },
  {
   "cell_type": "code",
   "execution_count": 51,
   "id": "1d4eb495",
   "metadata": {},
   "outputs": [],
   "source": [
    "# Can explore about keyword filtering\n",
    "retriever = vectorstore.as_retriever(search_kwargs={\"k\": 10})"
   ]
  },
  {
   "cell_type": "code",
   "execution_count": 37,
   "id": "6e267137",
   "metadata": {},
   "outputs": [
    {
     "name": "stderr",
     "output_type": "stream",
     "text": [
      "/Users/ankita/Documents/Krish Naik Academy/LLMOPS/document_portal/doc_env/lib/python3.10/site-packages/torch/nn/modules/module.py:1762: FutureWarning: `encoder_attention_mask` is deprecated and will be removed in version 4.55.0 for `BertSdpaSelfAttention.forward`.\n",
      "  return forward_call(*args, **kwargs)\n"
     ]
    },
    {
     "data": {
      "text/plain": [
       "[Document(id='b922f0e6-34f9-408b-8b7d-5c473d7f51dd', metadata={'producer': 'pdfTeX-1.40.25', 'creator': 'LaTeX with hyperref', 'creationdate': '2023-07-20T00:30:36+00:00', 'author': '', 'keywords': '', 'moddate': '2023-07-20T00:30:36+00:00', 'ptex.fullbanner': 'This is pdfTeX, Version 3.141592653-2.6-1.40.25 (TeX Live 2023) kpathsea version 6.3.5', 'subject': '', 'title': '', 'trapped': '/False', 'source': '/Users/ankita/Documents/Krish Naik Academy/LLMOPS/document_portal/notebook/data/sample.pdf', 'total_pages': 77, 'page': 2, 'page_label': '3'}, page_content='the community to advance AI alignment research.\\nIn this work, we develop and release Llama 2, a family of pretrained and fine-tuned LLMs,Llama 2and\\nLlama 2-Chat, at scales up to 70B parameters. On the series of helpfulness and safety benchmarks we tested,\\nLlama 2-Chatmodels generally perform better than existing open-source models. They also appear to\\nbe on par with some of the closed-source models, at least on the human evaluations we performed (see\\nFigures 1 and 3). We have taken measures to increase the safety of these models, using safety-specific data\\nannotation and tuning, as well as conducting red-teaming and employing iterative evaluations. Additionally,\\nthis paper contributes a thorough description of our fine-tuning methodology and approach to improving\\nLLM safety. We hope that this openness will enable the community to reproduce fine-tuned LLMs and\\ncontinue to improve the safety of those models, paving the way for more responsible development of LLMs.'),\n",
       " Document(id='475f87d6-6b77-4e85-bdb4-16d546451e08', metadata={'producer': 'pdfTeX-1.40.25', 'creator': 'LaTeX with hyperref', 'creationdate': '2023-07-20T00:30:36+00:00', 'author': '', 'keywords': '', 'moddate': '2023-07-20T00:30:36+00:00', 'ptex.fullbanner': 'This is pdfTeX, Version 3.141592653-2.6-1.40.25 (TeX Live 2023) kpathsea version 6.3.5', 'subject': '', 'title': '', 'trapped': '/False', 'source': '/Users/ankita/Documents/Krish Naik Academy/LLMOPS/document_portal/notebook/data/sample.pdf', 'total_pages': 77, 'page': 48, 'page_label': '49'}, page_content='Llama 1\\n7B 76.5 79.8 48.9 76.1 70.1 72.8 47.6 57.2 33.6 35.1\\n13B 78.1 80.1 50.4 79.2 73.0 74.8 52.7 56.4 62.0 46.9\\n33B 83.1 82.3 50.4 82.8 76.0 80.0 57.8 58.6 72.5 57.8\\n65B 85.3 82.8 52.3 84.2 77.0 78.9 56.0 60.2 74.0 63.4\\nLlama 2\\n7B 77.4 78.8 48.3 77.2 69.2 75.2 45.9 58.6 57.8 45.3\\n13B 81.7 80.5 50.3 80.7 72.8 77.3 49.4 57.0 67.3 54.8\\n34B 83.7 81.9 50.9 83.3 76.7 79.4 54.5 58.2 74.3 62.6\\n70B 85.0 82.8 50.7 85.3 80.2 80.2 57.4 60.2 78.5 68.9\\nTable 20: Performance on standard benchmarks.\\nHuman-Eval MBPP\\npass@1 pass@100 pass@1 pass@80\\nMPT 7B 18.3 - 22.6 -\\n30B 25.0 - 32.8 -\\nFalcon 7B 0.0 - 11.2 -\\n40B 0.6 - 29.8 -\\nLlama 1\\n7B 10.5 36.5 17.7 56.2\\n13B 15.8 52.5 22.0 64.0\\n33B 21.7 70.7 30.2 73.4\\n65B 23.7 79.3 37.7 76.8\\nLlama 2\\n7B 12.8 45.6 20.8 62.8\\n13B 18.3 60.2 30.6 69.0\\n34B 22.6 77.2 33.0 76.1\\n70B 29.9 89.0 45.0 81.4\\nTable 21: Code generation results on Human-Eval and MBPP. We report 0-shot and 3-shot results for'),\n",
       " Document(id='d999c657-801d-419c-a5e7-caec2d4f1991', metadata={'producer': 'pdfTeX-1.40.25', 'creator': 'LaTeX with hyperref', 'creationdate': '2023-07-20T00:30:36+00:00', 'author': '', 'keywords': '', 'moddate': '2023-07-20T00:30:36+00:00', 'ptex.fullbanner': 'This is pdfTeX, Version 3.141592653-2.6-1.40.25 (TeX Live 2023) kpathsea version 6.3.5', 'subject': '', 'title': '', 'trapped': '/False', 'source': '/Users/ankita/Documents/Krish Naik Academy/LLMOPS/document_portal/notebook/data/sample.pdf', 'total_pages': 77, 'page': 76, 'page_label': '77'}, page_content='Llama 2.\\nHardware and Software(Section 2.2)\\nTraining Factors We used custom training libraries, Meta’s Research Super Cluster, and produc-\\ntion clusters for pretraining. Fine-tuning, annotation, and evaluation were also\\nperformed on third-party cloud compute.\\nCarbon Footprint Pretraining utilized a cumulative 3.3M GPU hours of computation on hardware\\nof type A100-80GB (TDP of 350-400W). Estimated total emissions were 539\\ntCO2eq, 100% of which were offset by Meta’s sustainability program.\\nTraining Data(Sections 2.1 and 3)\\nOverview Llama 2was pretrained on 2 trillion tokens of data from publicly available\\nsources. The fine-tuning data includes publicly available instruction datasets, as\\nwellasoveronemillionnewhuman-annotatedexamples. Neitherthepretraining\\nnor the fine-tuning datasets include Meta user data.\\nData Freshness The pretraining data has a cutoff of September 2022, but some tuning data is\\nmore recent, up to July 2023.\\nEvaluation Results'),\n",
       " Document(id='c115b38b-526c-4065-859e-9e13249a9fde', metadata={'producer': 'pdfTeX-1.40.25', 'creator': 'LaTeX with hyperref', 'creationdate': '2023-07-20T00:30:36+00:00', 'author': '', 'keywords': '', 'moddate': '2023-07-20T00:30:36+00:00', 'ptex.fullbanner': 'This is pdfTeX, Version 3.141592653-2.6-1.40.25 (TeX Live 2023) kpathsea version 6.3.5', 'subject': '', 'title': '', 'trapped': '/False', 'source': '/Users/ankita/Documents/Krish Naik Academy/LLMOPS/document_portal/notebook/data/sample.pdf', 'total_pages': 77, 'page': 69, 'page_label': '70'}, page_content='Llama 2-Chat\\n7B 57.04 60.59 96.45\\n13B 62.18 65.73 96.45\\n34B 67.2 70.01 97.06\\n70B 64.14 67.07 97.06\\nTable 44: Evaluation results on TruthfulQA across different model generations.\\nLimitations of Benchmarks. It is important to note that these evaluations using automatic metrics are by\\nno means fully comprehensive, due to the complex nature of toxicity and bias in LLMs, but the benchmarks\\nwe selected are representative of our understanding thatLlama 2-Chatimproves on critical aspects of LLM\\nsafety. Benchmark evaluation is important for assessing AI models, including chat-oriented LLMs, because\\nbenchmarks provide a standardized and measurable way to compare different models and track progress in\\nthe field.\\nHowever, it’s crucial to be aware of the benchmarks’ limitations in evaluating safety. Most of them were\\ninitially developed for pretrained LLMs, and there are certain limitations to consider when using them to'),\n",
       " Document(id='6dbff5d8-b6be-44c1-8d9c-5db92da0b86b', metadata={'producer': 'pdfTeX-1.40.25', 'creator': 'LaTeX with hyperref', 'creationdate': '2023-07-20T00:30:36+00:00', 'author': '', 'keywords': '', 'moddate': '2023-07-20T00:30:36+00:00', 'ptex.fullbanner': 'This is pdfTeX, Version 3.141592653-2.6-1.40.25 (TeX Live 2023) kpathsea version 6.3.5', 'subject': '', 'title': '', 'trapped': '/False', 'source': '/Users/ankita/Documents/Krish Naik Academy/LLMOPS/document_portal/notebook/data/sample.pdf', 'total_pages': 77, 'page': 6, 'page_label': '7'}, page_content='We estimate the total emissions for training to be539 tCO2eq, of which 100% were directly offset by Meta’s\\nsustainability program.∗∗ Our open release strategy also means that these pretraining costs will not need to\\nbe incurred by other companies, saving more global resources.\\n2.3 Llama 2Pretrained Model Evaluation\\nIn this section, we report the results for theLlama 1and Llama 2base models, MosaicML Pretrained\\nTransformer(MPT)†† models,andFalcon(Almazroueietal.,2023)modelsonstandardacademicbenchmarks.\\nFor all the evaluations, we use our internal evaluations library. We reproduce results for the MPT and Falcon\\nmodels internally. For these models, we always pick the best score between our evaluation framework and\\nany publicly reported results.\\nIn Table 3, we summarize the overall performance across a suite of popular benchmarks. Note that safety\\nbenchmarks are shared in Section 4.1. The benchmarks are grouped into the categories listed below. The'),\n",
       " Document(id='020d8f8b-4ccb-44c3-81ef-ce552a84e46d', metadata={'producer': 'pdfTeX-1.40.25', 'creator': 'LaTeX with hyperref', 'creationdate': '2023-07-20T00:30:36+00:00', 'author': '', 'keywords': '', 'moddate': '2023-07-20T00:30:36+00:00', 'ptex.fullbanner': 'This is pdfTeX, Version 3.141592653-2.6-1.40.25 (TeX Live 2023) kpathsea version 6.3.5', 'subject': '', 'title': '', 'trapped': '/False', 'source': '/Users/ankita/Documents/Krish Naik Academy/LLMOPS/document_portal/notebook/data/sample.pdf', 'total_pages': 77, 'page': 7, 'page_label': '8'}, page_content='• Popular Aggregated Benchmarks. We report the overall results for MMLU (5 shot) (Hendrycks\\net al., 2020), Big Bench Hard (BBH) (3 shot) (Suzgun et al., 2022), and AGI Eval (3–5 shot) (Zhong\\net al., 2023). For AGI Eval, we only evaluate on the English tasks and report the average.\\nAs shown in Table 3,Llama 2models outperformLlama 1models. In particular,Llama 270B improves the\\nresultsonMMLUandBBHby ≈5and ≈8points, respectively, comparedtoLlama 165B.Llama 27Band30B\\nmodelsoutperformMPTmodelsofthecorrespondingsizeonallcategoriesbesidescodebenchmarks. Forthe\\nFalcon models,Llama 27B and 34B outperform Falcon 7B and 40B models on all categories of benchmarks.\\nAdditionally,Llama 270B model outperforms all open-source models.\\nIn addition to open-source models, we also compareLlama 270B results to closed-source models. As shown\\nin Table 4,Llama 270B is close to GPT-3.5 (OpenAI, 2023) on MMLU and GSM8K, but there is a significant'),\n",
       " Document(id='69fdfd98-86f8-482b-b736-47c3bcbbdfbd', metadata={'producer': 'pdfTeX-1.40.25', 'creator': 'LaTeX with hyperref', 'creationdate': '2023-07-20T00:30:36+00:00', 'author': '', 'keywords': '', 'moddate': '2023-07-20T00:30:36+00:00', 'ptex.fullbanner': 'This is pdfTeX, Version 3.141592653-2.6-1.40.25 (TeX Live 2023) kpathsea version 6.3.5', 'subject': '', 'title': '', 'trapped': '/False', 'source': '/Users/ankita/Documents/Krish Naik Academy/LLMOPS/document_portal/notebook/data/sample.pdf', 'total_pages': 77, 'page': 34, 'page_label': '35'}, page_content='this progression is the rise of Llama, recognized for its focus on computational efficiency during inference\\n(Touvron et al., 2023). A parallel discourse has unfolded around the dynamics of open-source versus closed-\\nsource models. Open-source releases like BLOOM (Scao et al., 2022), OPT(Zhang et al., 2022), and Falcon\\n(Penedo et al., 2023) have risen to challenge their closed-source counterparts like GPT-3 and Chinchilla.\\n§§https://ai.meta.com/llama\\n35'),\n",
       " Document(id='a6c328eb-ef59-46e2-ad09-c210d0ef9ac7', metadata={'producer': 'pdfTeX-1.40.25', 'creator': 'LaTeX with hyperref', 'creationdate': '2023-07-20T00:30:36+00:00', 'author': '', 'keywords': '', 'moddate': '2023-07-20T00:30:36+00:00', 'ptex.fullbanner': 'This is pdfTeX, Version 3.141592653-2.6-1.40.25 (TeX Live 2023) kpathsea version 6.3.5', 'subject': '', 'title': '', 'trapped': '/False', 'source': '/Users/ankita/Documents/Krish Naik Academy/LLMOPS/document_portal/notebook/data/sample.pdf', 'total_pages': 77, 'page': 2, 'page_label': '3'}, page_content='Feedback (RLHF). Although the training methodology is simple, high computational requirements have\\nlimited the development of LLMs to a few players. There have been public releases of pretrained LLMs\\n(such as BLOOM (Scao et al., 2022), LLaMa-1 (Touvron et al., 2023), and Falcon (Penedo et al., 2023)) that\\nmatch the performance of closed pretrained competitors like GPT-3 (Brown et al., 2020) and Chinchilla\\n(Hoffmann et al., 2022), but none of these models are suitable substitutes for closed “product” LLMs, such\\nas ChatGPT, BARD, and Claude. These closed product LLMs are heavily fine-tuned to align with human\\npreferences, which greatly enhances their usability and safety. This step can require significant costs in\\ncompute and human annotation, and is often not transparent or easily reproducible, limiting progress within\\nthe community to advance AI alignment research.\\nIn this work, we develop and release Llama 2, a family of pretrained and fine-tuned LLMs,Llama 2and'),\n",
       " Document(id='9b5cb3b3-a20e-4edf-84e2-25975fdaa5fe', metadata={'producer': 'pdfTeX-1.40.25', 'creator': 'LaTeX with hyperref', 'creationdate': '2023-07-20T00:30:36+00:00', 'author': '', 'keywords': '', 'moddate': '2023-07-20T00:30:36+00:00', 'ptex.fullbanner': 'This is pdfTeX, Version 3.141592653-2.6-1.40.25 (TeX Live 2023) kpathsea version 6.3.5', 'subject': '', 'title': '', 'trapped': '/False', 'source': '/Users/ankita/Documents/Krish Naik Academy/LLMOPS/document_portal/notebook/data/sample.pdf', 'total_pages': 77, 'page': 33, 'page_label': '34'}, page_content='Model ASDiv SVAMP MAWPS\\nOPT-66B 6.0 4.9 7.9\\nGPT-J 7.5 5.2 9.9\\nGPT-J + CC 9.6 5.0 9.3\\nGPT-3 14.0 10.0 19.8\\nToolformer 40.4 29.4 44.0\\nLlama 2-Chat 67.1 69.2 82.4\\nTable 15: Performance with tool use.Evaluation on the math datasets used in Toolformer. For different\\nbaselines, we report the scores from Schick et al. (2023).\\nof trajectories, complemented by the formulation of few-shot examples for each tool. Nonetheless, this\\ntechnique was only applied using a single tool per example, and would not scale for a sequence of tool usage.\\nFigure 23: Tool use emergence.Llama 2-Chatis able to understand the tools’s applications, and the API\\narguments, just through the semantics, despite never having been trained to use tools.\\nThe release of OpenAI’s plugins‡‡ has incited substantial discourse within the academic community, igniting\\nquestions such as:How can we effectively teach models to utilize tools?orDoes the process necessitate a substantial'),\n",
       " Document(id='a7304273-7a4c-4155-b3eb-c18853015ffc', metadata={'producer': 'pdfTeX-1.40.25', 'creator': 'LaTeX with hyperref', 'creationdate': '2023-07-20T00:30:36+00:00', 'author': '', 'keywords': '', 'moddate': '2023-07-20T00:30:36+00:00', 'ptex.fullbanner': 'This is pdfTeX, Version 3.141592653-2.6-1.40.25 (TeX Live 2023) kpathsea version 6.3.5', 'subject': '', 'title': '', 'trapped': '/False', 'source': '/Users/ankita/Documents/Krish Naik Academy/LLMOPS/document_portal/notebook/data/sample.pdf', 'total_pages': 77, 'page': 4, 'page_label': '5'}, page_content='Figure 4: Training ofLlama 2-Chat: This process begins with thepretraining of Llama 2using publicly\\navailable online sources. Following this, we create an initial version ofLlama 2-Chatthrough the application\\nof supervised fine-tuning. Subsequently, the model is iteratively refined using Reinforcement Learning\\nwith Human Feedback(RLHF) methodologies, specifically through rejection sampling and Proximal Policy\\nOptimization (PPO). Throughout the RLHF stage, the accumulation ofiterative reward modeling datain\\nparallel with model enhancements is crucial to ensure the reward models remain within distribution.\\n2 Pretraining\\nTocreatethenewfamilyof Llama 2models,webeganwiththepretrainingapproachdescribedinTouvronetal.\\n(2023), using an optimized auto-regressive transformer, but made several changes to improve performance.\\nSpecifically, we performed more robust data cleaning, updated our data mixes, trained on 40% more total')]"
      ]
     },
     "execution_count": 37,
     "metadata": {},
     "output_type": "execute_result"
    }
   ],
   "source": [
    "retriever.invoke(\"llama2 finetuning benchmark experiments.\")"
   ]
  },
  {
   "cell_type": "code",
   "execution_count": 38,
   "id": "76824857",
   "metadata": {},
   "outputs": [],
   "source": [
    "# Question: Users question\n",
    "# context: Based on question, context is retrived from the vector database"
   ]
  },
  {
   "cell_type": "code",
   "execution_count": 39,
   "id": "b6d585f9",
   "metadata": {},
   "outputs": [],
   "source": [
    "prompt_template = \"\"\"\n",
    "        Answer the question based on the context provided below. \n",
    "        If the context does not contain sufficient information, respond with: \n",
    "        \"I do not have enough information about this.\"\n",
    "\n",
    "        Context: {context}\n",
    "\n",
    "        Question: {question}\n",
    "\n",
    "        Answer:\"\"\""
   ]
  },
  {
   "cell_type": "code",
   "execution_count": 40,
   "id": "2bd44460",
   "metadata": {},
   "outputs": [],
   "source": [
    "from langchain.prompts import PromptTemplate"
   ]
  },
  {
   "cell_type": "code",
   "execution_count": 41,
   "id": "70f14f81",
   "metadata": {},
   "outputs": [],
   "source": [
    "prompt=PromptTemplate(\n",
    "    template=prompt_template,\n",
    "    input_variables=[\"context\", \"question\"]\n",
    ")"
   ]
  },
  {
   "cell_type": "code",
   "execution_count": 42,
   "id": "227195a3",
   "metadata": {},
   "outputs": [
    {
     "data": {
      "text/plain": [
       "PromptTemplate(input_variables=['context', 'question'], input_types={}, partial_variables={}, template='\\n        Answer the question based on the context provided below. \\n        If the context does not contain sufficient information, respond with: \\n        \"I do not have enough information about this.\"\\n\\n        Context: {context}\\n\\n        Question: {question}\\n\\n        Answer:')"
      ]
     },
     "execution_count": 42,
     "metadata": {},
     "output_type": "execute_result"
    }
   ],
   "source": [
    "prompt"
   ]
  },
  {
   "cell_type": "code",
   "execution_count": 43,
   "id": "26fc87e0",
   "metadata": {},
   "outputs": [],
   "source": [
    "from langchain_core.output_parsers import StrOutputParser"
   ]
  },
  {
   "cell_type": "code",
   "execution_count": 44,
   "id": "a96423f8",
   "metadata": {},
   "outputs": [],
   "source": [
    "parser = StrOutputParser()"
   ]
  },
  {
   "cell_type": "code",
   "execution_count": 45,
   "id": "24d4437b",
   "metadata": {},
   "outputs": [],
   "source": [
    "def format_docs(docs):\n",
    "    return \"\\n\\n\".join([doc.page_content for doc in docs])"
   ]
  },
  {
   "cell_type": "code",
   "execution_count": 46,
   "id": "ad1a77a9",
   "metadata": {},
   "outputs": [],
   "source": [
    "from langchain_core.runnables import RunnablePassthrough"
   ]
  },
  {
   "cell_type": "code",
   "execution_count": 47,
   "id": "a7b4f74b",
   "metadata": {},
   "outputs": [],
   "source": [
    "rag_chain = (\n",
    "    {\"context\": retriever | format_docs, \"question\": RunnablePassthrough()}\n",
    "    | prompt\n",
    "    | llm\n",
    "    | StrOutputParser()\n",
    ")"
   ]
  },
  {
   "cell_type": "code",
   "execution_count": 48,
   "id": "865eb6d6",
   "metadata": {},
   "outputs": [
    {
     "name": "stdout",
     "output_type": "stream",
     "text": [
      "text='\\n        Answer the question based on the context provided below. \\n        If the context does not contain sufficient information, respond with: \\n        \"I do not have enough information about this.\"\\n\\n        Context: hello\\n\\n        Question: who are you\\n\\n        Answer:'\n"
     ]
    }
   ],
   "source": [
    "print(prompt.invoke({\"context\": \"hello\", \"question\": \"who are you\"}))\n"
   ]
  },
  {
   "cell_type": "code",
   "execution_count": 49,
   "id": "3fe2ad95",
   "metadata": {},
   "outputs": [
    {
     "name": "stderr",
     "output_type": "stream",
     "text": [
      "/Users/ankita/Documents/Krish Naik Academy/LLMOPS/document_portal/doc_env/lib/python3.10/site-packages/torch/nn/modules/module.py:1762: FutureWarning: `encoder_attention_mask` is deprecated and will be removed in version 4.55.0 for `BertSdpaSelfAttention.forward`.\n",
      "  return forward_call(*args, **kwargs)\n"
     ]
    },
    {
     "data": {
      "text/plain": [
       "\"<think>\\nAlright, I need to figure out how to answer the question about the Llama 2 fine-tuning benchmark experiments. Let me go through the context provided step by step.\\n\\nFirst, the question is asking about the fine-tuning benchmark experiments for Llama 2. I should look through the context to find sections that discuss fine-tuning and the benchmarks used.\\n\\nLooking at the context, there are several tables and sections that mention evaluation results. Table 20 shows performance on standard benchmarks, comparing Llama 1 and Llama 2 models. It includes metrics like pass@1, pass@100, etc. This indicates that they've tested the models on these benchmarks post-fine-tuning.\\n\\nThen, in Table 21, there are code generation results on Human-Eval and MBPP for Llama 2, with both 0-shot and 3-shot results. This suggests that fine-tuning involved these specific tasks and that the models were evaluated under different shot conditions.\\n\\nMoving on, in the Evaluation Results section, it mentions that Llama 2 models were evaluated on various benchmarks, outperforming Llama 1 and other models like MPT and Falcon. They used their internal evaluation framework and compared results with publicly reported ones, taking the best scores. This shows a comprehensive approach to benchmarking after fine-tuning.\\n\\nThe section on Llama 2-Chat evaluation (Table 44) shows results on TruthfulQA across different model sizes, which is another benchmark used to assess the fine-tuned models.\\n\\nIn the Limitations of Benchmarks section, it's noted that while the benchmarks are useful, they have limitations in fully capturing safety aspects. However, the benchmarks selected are still seen as representative for evaluating LLM safety improvements in Llama 2-Chat.\\n\\nThe Training Factors section under Hardware and Software mentions that fine-tuning, annotation, and evaluation were done on third-party cloud compute, indicating the resources involved in the fine-tuning process.\\n\\nIn the Feedback (RLHF) section, it's discussed that fine-tuning involved supervised methods and RLHF, including rejection sampling and PPO. This process improved the model's alignment with human preferences, enhancing usability and safety.\\n\\nThe paper also mentions that Llama 2 models were compared to closed-source models like GPT-3.5 and PaLM, showing competitive performance on certain benchmarks, though with gaps in others like coding tasks.\\n\\nThe fine-tuning methodology is described as involving supervised fine-tuning followed by iterative RLHF. They used safety-specific data annotation and conducted red-teaming and evaluations to enhance safety.\\n\\nIn summary, the fine-tuning benchmark experiments for Llama 2 involved multiple academic benchmarks, code generation tasks, and safety assessments. The models were evaluated using both automatic metrics and human evaluations, showing improvements over previous models and competitiveness with other state-of-the-art models, though with some limitations acknowledged in the benchmarking approach.\\n</think>\\n\\nThe fine-tuning benchmark experiments for Llama 2 involved a comprehensive evaluation across multiple academic benchmarks and tasks to assess performance and safety improvements. Here are the key details:\\n\\n1. **Benchmark Performance**: Llama 2 models were tested on various standard benchmarks, including MMLU, BBH, AGI Eval, HumanEval, and GSM8K. These benchmarks measured the models' capabilities in tasks such as problem-solving, code generation, and question answering. The results showed that Llama 2 models outperformed Llama 1 and other open-source models like MPT and Falcon in most categories, though there were gaps in coding benchmarks compared to some closed-source models.\\n\\n2. **Code Generation**: The models were evaluated on code generation tasks using HumanEval and MBPP, with both 0-shot and 3-shot results reported. This demonstrated the models' ability to generate correct code under different prompting conditions.\\n\\n3. **Safety Assessments**: Safety was a focus, with evaluations on benchmarks like TruthfulQA. The results indicated improvements in safety, though the limitations of using automatic metrics for complex aspects like toxicity and bias were acknowledged.\\n\\n4. **Fine-Tuning Methodology**: The fine-tuning process included supervised fine-tuning and iterative Reinforcement Learning with Human Feedback (RLHF). This involved rejection sampling and Proximal Policy Optimization (PPO) to align the models better with human preferences, enhancing usability and safety.\\n\\n5. **Comparison with Closed-Source Models**: Llama 2 models were compared to state-of-the-art closed-source models like GPT-3.5 and PaLM, showing competitive performance in some areas but with notable gaps in others, such as coding tasks.\\n\\nOverall, the benchmark experiments demonstrated that Llama 2 models, particularly Llama 2-Chat, showed significant improvements in both performance and safety compared to previous models and other open-source alternatives, though certain limitations in benchmarking were recognized.\""
      ]
     },
     "execution_count": 49,
     "metadata": {},
     "output_type": "execute_result"
    }
   ],
   "source": [
    "rag_chain.invoke(\"tell  me about the llama2 finetuning benchmark experiments?\")\n"
   ]
  },
  {
   "cell_type": "code",
   "execution_count": 50,
   "id": "d00eb730",
   "metadata": {},
   "outputs": [
    {
     "name": "stderr",
     "output_type": "stream",
     "text": [
      "/Users/ankita/Documents/Krish Naik Academy/LLMOPS/document_portal/doc_env/lib/python3.10/site-packages/torch/nn/modules/module.py:1762: FutureWarning: `encoder_attention_mask` is deprecated and will be removed in version 4.55.0 for `BertSdpaSelfAttention.forward`.\n",
      "  return forward_call(*args, **kwargs)\n"
     ]
    },
    {
     "data": {
      "text/plain": [
       "'<think>\\nOkay, so I need to figure out the scaling trends for the reward model based on the provided context. Let me go through the context step by step to find relevant information.\\n\\nFirst, I see that the context includes some figures and tables, like Figure 6, which is titled \"Scaling trends for the reward model.\" The description under Figure 6 mentions that more data and a larger model size generally improve accuracy. It also notes that the models haven\\'t yet saturated from learning on the training data, which suggests there\\'s room for further improvement with more data or larger models.\\n\\nAdditionally, the context discusses experiments with different margins in the loss function. It mentions that increasing the margin can help the reward model perform better on more separable comparison pairs, but might regress performance on similar samples. This indicates that while scaling up data and model size is beneficial, there are nuances in how certain parameters affect performance.\\n\\nThere\\'s also mention of iterative fine-tuning with different RLHF versions (like RLHF-V1 to V5) and the use of PPO and Rejection Sampling. These methods show that as more data is collected and models are fine-tuned, the reward model\\'s performance improves.\\n\\nLooking at Figure 6 specifically, it likely plots model size against data volume, showing that larger models with more data perform better. The fact that performance hasn\\'t plateaued suggests that scaling is still effective.\\n\\nSo, putting it all together, the scaling trends indicate that increasing data size and model capacity leads to better reward model accuracy, and there\\'s potential for further improvements as more data is added.\\n</think>\\n\\nScaling trends for the reward model indicate that both increased data and larger model sizes lead to improved accuracy. The models have not yet reached their learning capacity limits, showing potential for further enhancement with additional data and scaling.'"
      ]
     },
     "execution_count": 50,
     "metadata": {},
     "output_type": "execute_result"
    }
   ],
   "source": [
    "rag_chain.invoke(\"can you tell me Scaling trends for the reward model?\")"
   ]
  },
  {
   "cell_type": "markdown",
   "id": "54b47550",
   "metadata": {},
   "source": [
    "# One Small task\n",
    "## Take 10 pdfs keep it in same directory and create RAG on top of it."
   ]
  }
 ],
 "metadata": {
  "kernelspec": {
   "display_name": "Python 3",
   "language": "python",
   "name": "python3"
  },
  "language_info": {
   "codemirror_mode": {
    "name": "ipython",
    "version": 3
   },
   "file_extension": ".py",
   "mimetype": "text/x-python",
   "name": "python",
   "nbconvert_exporter": "python",
   "pygments_lexer": "ipython3",
   "version": "3.10.18"
  }
 },
 "nbformat": 4,
 "nbformat_minor": 5
}
