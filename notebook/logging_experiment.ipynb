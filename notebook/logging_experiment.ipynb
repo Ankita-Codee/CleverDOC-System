{
 "cells": [
  {
   "cell_type": "code",
   "execution_count": 1,
   "id": "5b0c91ad",
   "metadata": {},
   "outputs": [
    {
     "name": "stdout",
     "output_type": "stream",
     "text": [
      "all ok\n"
     ]
    }
   ],
   "source": [
    "print(\"all ok\")"
   ]
  },
  {
   "cell_type": "markdown",
   "id": "ce86d624",
   "metadata": {},
   "source": [
    "\n",
    "## 🐍 Python Code to Create `logs` Directory"
   ]
  },
  {
   "cell_type": "code",
   "execution_count": 2,
   "id": "3d42aa13",
   "metadata": {},
   "outputs": [],
   "source": [
    "import logging\n",
    "import os\n",
    "from datetime import datetime"
   ]
  },
  {
   "cell_type": "code",
   "execution_count": null,
   "id": "d25e3064",
   "metadata": {},
   "outputs": [],
   "source": [
    "# Create the path for the \"logs\" directory inside the current working directory\n",
    "logs_dir=os.path.join(os.getcwd(),\"logs\")"
   ]
  },
  {
   "cell_type": "code",
   "execution_count": null,
   "id": "2f0a77a6",
   "metadata": {},
   "outputs": [],
   "source": [
    "# Create the directory if it doesn't already exist\n",
    "os.makedirs(logs_dir, exist_ok=True)"
   ]
  },
  {
   "cell_type": "markdown",
   "id": "94394d63",
   "metadata": {},
   "source": [
    "\n",
    "\n",
    "## What this does:\n",
    "\n",
    "- `os.getcwd()` → Gets your current working directory  \n",
    "  **Example**: `/Users/Ankita/MyProject`\n",
    "\n",
    "- `os.path.join(..., \"logs\")` → Adds `\"logs\"` to that path  \n",
    "  **Example**: `/Users/Ankita/MyProject/logs`\n",
    "\n",
    "- `os.makedirs(..., exist_ok=True)` → Creates the directory  \n",
    "  If it already exists, it does **not** throw an error.\n"
   ]
  },
  {
   "cell_type": "code",
   "execution_count": 7,
   "id": "e731bd75",
   "metadata": {},
   "outputs": [],
   "source": [
    "LOG_FILE = f\"{datetime.now().strftime('%Y-%m-%d_%H-%M-%S')}.log\""
   ]
  },
  {
   "cell_type": "code",
   "execution_count": 8,
   "id": "6a9dd15c",
   "metadata": {},
   "outputs": [
    {
     "data": {
      "text/plain": [
       "'2025-08-03_10-56-32.log'"
      ]
     },
     "execution_count": 8,
     "metadata": {},
     "output_type": "execute_result"
    }
   ],
   "source": [
    "LOG_FILE"
   ]
  },
  {
   "cell_type": "code",
   "execution_count": 9,
   "id": "434cb516",
   "metadata": {},
   "outputs": [],
   "source": [
    "#today\n",
    "# With todays data and time log file will be created"
   ]
  },
  {
   "cell_type": "code",
   "execution_count": 12,
   "id": "48551078",
   "metadata": {},
   "outputs": [],
   "source": [
    "LOG_FILE_PATH=os.path.join(logs_dir, LOG_FILE)"
   ]
  },
  {
   "cell_type": "code",
   "execution_count": 13,
   "id": "eb1cf8e4",
   "metadata": {},
   "outputs": [],
   "source": [
    "# using python logging module\n",
    "logging.basicConfig(\n",
    "    filename=LOG_FILE_PATH,\n",
    "    format = \"[%(asctime)s] %(levelname)s %(name)s (line:%(lineno)d) - %(message)s\",\n",
    "    level= logging.INFO,)"
   ]
  },
  {
   "cell_type": "code",
   "execution_count": 14,
   "id": "76d063b5",
   "metadata": {},
   "outputs": [],
   "source": [
    "logger=logging.getLogger(\"DocumentPortal\")"
   ]
  },
  {
   "cell_type": "code",
   "execution_count": 15,
   "id": "02abbed2",
   "metadata": {},
   "outputs": [],
   "source": [
    "logger.info(\"This is an info message\")"
   ]
  },
  {
   "cell_type": "code",
   "execution_count": null,
   "id": "63ef647b",
   "metadata": {},
   "outputs": [],
   "source": []
  }
 ],
 "metadata": {
  "kernelspec": {
   "display_name": "Python 3",
   "language": "python",
   "name": "python3"
  },
  "language_info": {
   "codemirror_mode": {
    "name": "ipython",
    "version": 3
   },
   "file_extension": ".py",
   "mimetype": "text/x-python",
   "name": "python",
   "nbconvert_exporter": "python",
   "pygments_lexer": "ipython3",
   "version": "3.10.18"
  }
 },
 "nbformat": 4,
 "nbformat_minor": 5
}
